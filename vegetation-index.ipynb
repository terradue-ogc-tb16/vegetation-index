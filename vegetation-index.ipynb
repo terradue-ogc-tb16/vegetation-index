{
 "cells": [
  {
   "cell_type": "markdown",
   "metadata": {},
   "source": [
    "## normalized burn ratio\n"
   ]
  },
  {
   "cell_type": "code",
   "execution_count": 1,
   "metadata": {},
   "outputs": [],
   "source": [
    "workflow = dict([('id', 'nbr'),\n",
    "                ('label', 'Normalized burn ratio'),\n",
    "                ('doc', 'Normalized burn ratio processor')])\n"
   ]
  },
  {
   "cell_type": "code",
   "execution_count": 2,
   "metadata": {},
   "outputs": [],
   "source": [
    "input_reference = dict([('id', 'input_reference'), \n",
    "                        ('label', 'EO product for normalized burn ratio'),\n",
    "                        ('doc', 'EO product for normalized burn ratio'),\n",
    "                        ('value', 'https://catalog.terradue.com/sentinel2/search?uid=S2B_MSIL2A_20190612T095039_N0212_R079_T33TVF_20190612T124245'), \n",
    "                        ('stac:collection', 'input_reference'),\n",
    "                        ('stac:href', '/workspace/data/s2/catalog.json'),\n",
    "                        ('type', 'Directory'),\n",
    "                        ('scatter', 'True')])"
   ]
  },
  {
   "cell_type": "markdown",
   "metadata": {},
   "source": [
    "### Vegetation indexes\n",
    "\n",
    "NBR = (NIR - SWIR22) / (NIR + SWIR22)\n",
    "NDVI = (NIR - Red) / (NIR + Red)\n",
    "NDWI = (NIR - SWIR16) / (NIR + SWIR16)"
   ]
  },
  {
   "cell_type": "code",
   "execution_count": 3,
   "metadata": {},
   "outputs": [],
   "source": [
    "bands = [{'name': 'NBR',\n",
    "          'common_name': 'nbr'}, \n",
    "         {'name': 'NDVI',\n",
    "          'common_name': 'ndvi'},\n",
    "         {'name': 'NDWI',\n",
    "          'common_name': 'ndwi'},\n",
    "        ]"
   ]
  },
  {
   "cell_type": "code",
   "execution_count": 4,
   "metadata": {},
   "outputs": [],
   "source": [
    "import os\n",
    "import sys\n",
    "import gdal\n",
    "import numpy as np\n",
    "import logging\n",
    "from pystac import Catalog, Collection, EOItem, MediaType, EOAsset, CatalogType\n",
    "from time import sleep\n",
    "\n",
    "gdal.UseExceptions()\n",
    "\n",
    "if not 'PREFIX' in os.environ.keys():\n",
    "    \n",
    "    os.environ['PREFIX'] = '/opt/anaconda/envs/env_nbr/'\n",
    "\n",
    "os.environ['GDAL_DATA'] =  os.path.join(os.environ['PREFIX'], 'share/gdal')\n",
    "os.environ['PROJ_LIB'] = os.path.join(os.environ['PREFIX'], 'share/proj')"
   ]
  },
  {
   "cell_type": "code",
   "execution_count": 5,
   "metadata": {},
   "outputs": [],
   "source": [
    "%load_ext autoreload\n",
    "%autoreload 2"
   ]
  },
  {
   "cell_type": "code",
   "execution_count": 6,
   "metadata": {},
   "outputs": [],
   "source": [
    "cat = Catalog.from_file(input_reference['stac:href'])"
   ]
  },
  {
   "cell_type": "code",
   "execution_count": 7,
   "metadata": {},
   "outputs": [],
   "source": [
    "collection = next(cat.get_children())"
   ]
  },
  {
   "cell_type": "code",
   "execution_count": 8,
   "metadata": {},
   "outputs": [],
   "source": [
    "item = next(collection.get_items())"
   ]
  },
  {
   "cell_type": "code",
   "execution_count": 9,
   "metadata": {},
   "outputs": [],
   "source": [
    "for index, band in enumerate(item.bands):\n",
    "   \n",
    "    if band.common_name in ['swir16']:\n",
    " \n",
    "       asset_swir16 = item.assets[band.name].get_absolute_href()\n",
    "\n",
    "    if band.common_name in ['swir22']:\n",
    " \n",
    "       asset_swir22 = item.assets[band.name].get_absolute_href()\n",
    "        \n",
    "    if band.common_name in ['nir']:\n",
    " \n",
    "        asset_nir = item.assets[band.name].get_absolute_href()\n",
    "    \n",
    "    if band.common_name in ['red']:\n",
    " \n",
    "        asset_red = item.assets[band.name].get_absolute_href()"
   ]
  },
  {
   "cell_type": "code",
   "execution_count": 10,
   "metadata": {},
   "outputs": [],
   "source": [
    "vrt = '{0}.vrt'.format(item.id)"
   ]
  },
  {
   "cell_type": "code",
   "execution_count": 11,
   "metadata": {},
   "outputs": [],
   "source": [
    "ds = gdal.BuildVRT(vrt,\n",
    "                   [asset_red, asset_nir, asset_swir16, asset_swir22],\n",
    "                   srcNodata=0,\n",
    "                   xRes=10, \n",
    "                   yRes=10,\n",
    "                   separate=True)\n",
    "\n",
    "ds.FlushCache()\n",
    "\n",
    "ds = None\n",
    "\n",
    "del(ds)\n"
   ]
  },
  {
   "cell_type": "code",
   "execution_count": 12,
   "metadata": {},
   "outputs": [],
   "source": [
    "tif = '{0}.tif'.format(item.id)"
   ]
  },
  {
   "cell_type": "code",
   "execution_count": 13,
   "metadata": {},
   "outputs": [
    {
     "data": {
      "text/plain": [
       "<osgeo.gdal.Dataset; proxy of <Swig Object of type 'GDALDatasetShadow *' at 0x7f91909e1990> >"
      ]
     },
     "execution_count": 13,
     "metadata": {},
     "output_type": "execute_result"
    }
   ],
   "source": [
    "gdal.Translate(tif,\n",
    "               vrt,\n",
    "               outputType=gdal.GDT_Int16)"
   ]
  },
  {
   "cell_type": "code",
   "execution_count": 14,
   "metadata": {},
   "outputs": [],
   "source": [
    "os.remove(vrt)"
   ]
  },
  {
   "cell_type": "code",
   "execution_count": 15,
   "metadata": {},
   "outputs": [],
   "source": [
    "ds = gdal.Open(tif)\n",
    "width = ds.RasterXSize\n",
    "height = ds.RasterYSize\n",
    "\n",
    "input_geotransform = ds.GetGeoTransform()\n",
    "input_georef = ds.GetProjectionRef()"
   ]
  },
  {
   "cell_type": "code",
   "execution_count": 16,
   "metadata": {},
   "outputs": [],
   "source": [
    "red = ds.GetRasterBand(1).ReadAsArray()\n",
    "nir = ds.GetRasterBand(2).ReadAsArray()\n",
    "swir16 = ds.GetRasterBand(3).ReadAsArray()\n",
    "swir22 = ds.GetRasterBand(4).ReadAsArray()"
   ]
  },
  {
   "cell_type": "code",
   "execution_count": 17,
   "metadata": {},
   "outputs": [
    {
     "name": "stderr",
     "output_type": "stream",
     "text": [
      "/opt/anaconda/envs/env_nbr/lib/python3.7/site-packages/ipykernel_launcher.py:3: RuntimeWarning: invalid value encountered in true_divide\n",
      "  This is separate from the ipykernel package so we can avoid doing imports until\n"
     ]
    }
   ],
   "source": [
    "nbr = np.zeros((height, width), dtype=np.uint)\n",
    "\n",
    "nbr = 10000 * ((nir - swir22) / (nir + swir22))"
   ]
  },
  {
   "cell_type": "code",
   "execution_count": 18,
   "metadata": {},
   "outputs": [],
   "source": [
    "swir22 = None"
   ]
  },
  {
   "cell_type": "code",
   "execution_count": 19,
   "metadata": {},
   "outputs": [
    {
     "name": "stderr",
     "output_type": "stream",
     "text": [
      "/opt/anaconda/envs/env_nbr/lib/python3.7/site-packages/ipykernel_launcher.py:3: RuntimeWarning: invalid value encountered in true_divide\n",
      "  This is separate from the ipykernel package so we can avoid doing imports until\n"
     ]
    }
   ],
   "source": [
    "ndvi = np.zeros((height, width), dtype=np.uint)\n",
    "\n",
    "ndvi = 10000 * ((nir - red) / (nir + red))"
   ]
  },
  {
   "cell_type": "code",
   "execution_count": 20,
   "metadata": {},
   "outputs": [],
   "source": [
    "red = None"
   ]
  },
  {
   "cell_type": "code",
   "execution_count": 21,
   "metadata": {},
   "outputs": [
    {
     "name": "stderr",
     "output_type": "stream",
     "text": [
      "/opt/anaconda/envs/env_nbr/lib/python3.7/site-packages/ipykernel_launcher.py:3: RuntimeWarning: invalid value encountered in true_divide\n",
      "  This is separate from the ipykernel package so we can avoid doing imports until\n"
     ]
    }
   ],
   "source": [
    "ndwi = np.zeros((height, width), dtype=np.uint)\n",
    "\n",
    "ndwi = 10000 * ((nir - swir16) / (nir + swir16))"
   ]
  },
  {
   "cell_type": "code",
   "execution_count": 22,
   "metadata": {},
   "outputs": [],
   "source": [
    "nir = swir16 = None"
   ]
  },
  {
   "cell_type": "code",
   "execution_count": 23,
   "metadata": {},
   "outputs": [],
   "source": [
    "#temp_name = '_NRB_{}.tif'.format(item.id)\n",
    "#output_name = 'NRB_{}.tif'.format(item.id)"
   ]
  },
  {
   "cell_type": "code",
   "execution_count": 24,
   "metadata": {},
   "outputs": [],
   "source": [
    "def cog(input_tif, output_tif,no_data=None):\n",
    "    \n",
    "    translate_options = gdal.TranslateOptions(gdal.ParseCommandLine('-co TILED=YES ' \\\n",
    "                                                                    '-co COPY_SRC_OVERVIEWS=YES ' \\\n",
    "                                                                    '-co COMPRESS=LZW '))\n",
    "    \n",
    "    if no_data != None:\n",
    "        translate_options = gdal.TranslateOptions(gdal.ParseCommandLine('-co TILED=YES ' \\\n",
    "                                                                        '-co COPY_SRC_OVERVIEWS=YES ' \\\n",
    "                                                                        '-co COMPRESS=LZW '\\\n",
    "                                                                        '-a_nodata {}'.format(no_data)))\n",
    "    ds = gdal.Open(input_tif, gdal.OF_READONLY)\n",
    "\n",
    "    gdal.SetConfigOption('COMPRESS_OVERVIEW', 'DEFLATE')\n",
    "    ds.BuildOverviews('NEAREST', [2,4,8,16,32])\n",
    "    \n",
    "    ds = None\n",
    "\n",
    "    ds = gdal.Open(input_tif)\n",
    "    gdal.Translate(output_tif,\n",
    "                   ds, \n",
    "                   options=translate_options)\n",
    "    ds = None\n",
    "\n",
    "    os.remove('{}.ovr'.format(input_tif))\n",
    "    os.remove(input_tif)\n"
   ]
  },
  {
   "cell_type": "code",
   "execution_count": 25,
   "metadata": {},
   "outputs": [
    {
     "data": {
      "text/plain": [
       "<Catalog id=catalog>"
      ]
     },
     "execution_count": 25,
     "metadata": {},
     "output_type": "execute_result"
    }
   ],
   "source": [
    "catalog = Catalog(id='catalog', description='Results')\n",
    "\n",
    "catalog.clear_items()\n",
    "catalog.clear_children()"
   ]
  },
  {
   "cell_type": "code",
   "execution_count": 26,
   "metadata": {},
   "outputs": [],
   "source": [
    "item_name = 'INDEX_{}'.format(item.id)"
   ]
  },
  {
   "cell_type": "code",
   "execution_count": 27,
   "metadata": {},
   "outputs": [],
   "source": [
    "result_item = EOItem(id=item_name,\n",
    "                   geometry=item.geometry,\n",
    "                   bbox=item.bbox,\n",
    "                   datetime=item.datetime,\n",
    "                   properties={},\n",
    "                   bands=bands,\n",
    "                    gsd=10, \n",
    "                    platform=item.platform, \n",
    "                    instrument=item.instrument)"
   ]
  },
  {
   "cell_type": "code",
   "execution_count": 28,
   "metadata": {},
   "outputs": [],
   "source": [
    "for index, veg_index in enumerate(['NBR', 'NDVI', 'NDWI']):\n",
    "\n",
    "    temp_name = '_{}_{}.tif'.format(veg_index, item.id)\n",
    "    output_name = '{}_{}.tif'.format(veg_index, item.id)\n",
    "\n",
    "    driver = gdal.GetDriverByName('GTiff')\n",
    "    \n",
    "    output = driver.Create(temp_name, \n",
    "                           width, \n",
    "                           height, \n",
    "                           1, \n",
    "                           gdal.GDT_Int16)\n",
    "\n",
    "    output.SetGeoTransform(input_geotransform)\n",
    "    output.SetProjection(input_georef)\n",
    "    output.GetRasterBand(1).WriteArray(nbr),\n",
    "\n",
    "    output.FlushCache()\n",
    "\n",
    "    sleep(5)\n",
    "    \n",
    "    output = None\n",
    "\n",
    "    del(output)\n",
    "\n",
    "    os.makedirs(os.path.join('stac-results', item_name),\n",
    "                exist_ok=True)\n",
    "    \n",
    "    cog(temp_name, os.path.join('stac-results', item_name, output_name))\n",
    "\n",
    "    result_item.add_asset(key=veg_index.lower(),\n",
    "                          asset=EOAsset(href='./{}'.format(output_name), \n",
    "                          media_type=MediaType.GEOTIFF, \n",
    "                          title=bands[index]['name'],\n",
    "                          bands=bands[index]))"
   ]
  },
  {
   "cell_type": "code",
   "execution_count": 29,
   "metadata": {},
   "outputs": [],
   "source": [
    "catalog.add_items([result_item])"
   ]
  },
  {
   "cell_type": "code",
   "execution_count": 30,
   "metadata": {},
   "outputs": [],
   "source": [
    "os.remove(tif)"
   ]
  },
  {
   "cell_type": "code",
   "execution_count": 31,
   "metadata": {},
   "outputs": [],
   "source": [
    "catalog.normalize_and_save(root_href='stac-results',\n",
    "                           catalog_type=CatalogType.SELF_CONTAINED)"
   ]
  },
  {
   "cell_type": "code",
   "execution_count": 32,
   "metadata": {},
   "outputs": [
    {
     "name": "stdout",
     "output_type": "stream",
     "text": [
      "* <Catalog id=catalog>\n",
      "  * <EOItem id=INDEX_S2B_MSIL2A_20200130T004659_N0213_R102_T53HPA_20200130T022348>\n"
     ]
    }
   ],
   "source": [
    "catalog.describe()"
   ]
  },
  {
   "cell_type": "code",
   "execution_count": null,
   "metadata": {},
   "outputs": [],
   "source": []
  }
 ],
 "metadata": {
  "kernelspec": {
   "display_name": "env_nbr",
   "language": "python",
   "name": "env_nbr"
  },
  "language_info": {
   "codemirror_mode": {
    "name": "ipython",
    "version": 3
   },
   "file_extension": ".py",
   "mimetype": "text/x-python",
   "name": "python",
   "nbconvert_exporter": "python",
   "pygments_lexer": "ipython3",
   "version": "3.7.6"
  }
 },
 "nbformat": 4,
 "nbformat_minor": 4
}
